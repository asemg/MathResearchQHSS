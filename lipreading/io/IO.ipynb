{
 "cells": [
  {
   "cell_type": "code",
   "execution_count": 2,
   "metadata": {},
   "outputs": [],
   "source": [
    "import os \n",
    "from glob import glob\n",
    "import skvideo\n",
    "skvideo.setFFmpegPath('C:\\\\Users\\\\Joseph\\\\Desktop\\\\Misc. Packages\\\\ffmpeg-20181203-8ef0fda-win64-static\\\\ffmpeg-20181203-8ef0fda-win64-static\\\\bin\\\\')\n",
    "\n",
    "data_path = 'C:\\\\Users\\\\Joseph\\\\Desktop\\\\Grid Corpus\\\\Video\\\\'\n",
    "s1_path = 'C:\\\\Users\\\\Joseph\\\\Desktop\\\\Grid Corpus\\\\Video\\\\s1.mpg_6000.part1\\\\s1\\\\video\\\\mpg_6000\\\\'\n",
    "s1_align_path = 'C:\\\\Users\\\\Joseph\\\\Desktop\\\\Grid Corpus\\\\Align\\\\s1\\\\align\\\\'\n",
    "\n",
    "s1_files = glob(s1_path + '*.mpg', recursive = True)\n",
    "s1_align_files = glob(s1_align_path + '*.align', recursive = True)\n",
    "# print([i for i in zip(s1_files, s1_align_files)])"
   ]
  },
  {
   "cell_type": "code",
   "execution_count": 3,
   "metadata": {},
   "outputs": [
    {
     "data": {
      "text/plain": [
       "(75, 576, 720, 3)"
      ]
     },
     "execution_count": 3,
     "metadata": {},
     "output_type": "execute_result"
    }
   ],
   "source": [
    "# takes OD long to run\n",
    "import skvideo.io\n",
    "import numpy as np\n",
    "videodata = skvideo.io.vread(s1_files[0])\n",
    "videodata.shape\n",
    "# videodata = np.asarray([skvideo.io.vread(file).shape for file in s1_files])\n",
    "# np.unique(videodata) [3 , 74, 75, 576, 720]"
   ]
  },
  {
   "cell_type": "code",
   "execution_count": 21,
   "metadata": {},
   "outputs": [
    {
     "data": {
      "text/plain": [
       "'place green at q seven soon'"
      ]
     },
     "execution_count": 21,
     "metadata": {},
     "output_type": "execute_result"
    }
   ],
   "source": [
    "# the minimum abs max is 31 to s1\n",
    "from utils import *\n",
    "al = enumerate_align_hash(s1_align_path, 32)\n",
    "al['pgaq7s'].sentence"
   ]
  },
  {
   "cell_type": "code",
   "execution_count": 22,
   "metadata": {},
   "outputs": [],
   "source": [
    "# generator to load files iteratively (75 frames at a time)\n",
    "class FrameGenerator(BaseGenerator): \n",
    "    '''\n",
    "    list_IDs: file IDs (without the suffix); files must be .mpg and .align files\n",
    "    data_dirs: list of [training_dir, labels_dir]\n",
    "    batch_size: int of desired number images per epoch\n",
    "    n_channels: <-\n",
    "    '''\n",
    "    def __init__(self, list_IDs, data_dirs, batch_size, absolute_max_string_len = 32, shuffle = True):\n",
    "        # lists of paths to images\n",
    "        self.list_IDs = list_IDs\n",
    "        self.data_dirs = data_dirs # [s1_path, s1_align_paths]\n",
    "        self.batch_size = batch_size\n",
    "        self.shuffle = shuffle\n",
    "        self.indexes = np.arange(len(self.list_IDs))\n",
    "        self.align = enumerate_align_hash(data_dirs[1], absolute_max_string_len)\n",
    "        \n",
    "    def data_gen(self, list_IDs_temp):\n",
    "        '''\n",
    "        Preprocesses the data\n",
    "        Args:\n",
    "            batch_x, batch_y\n",
    "        Returns\n",
    "            x, y\n",
    "        '''\n",
    "        x = []\n",
    "        y = []\n",
    "        for file_id in list_IDs_temp:\n",
    "            # for file_x, file_y in zip(batch_x, batch_y):\n",
    "            file_x = os.path.join(self.data_dirs[0] + file_id + '.mpg')\n",
    "            file_y = self.align[file_id]#os.path.join(self.data_dirs[1] + file_id + '.align')\n",
    "            \n",
    "            videodata = np.asarray(skvideo.io.vread(file_x))\n",
    "            assert len(videodata.shape) >= 4  \n",
    "            \n",
    "            \n",
    "            \n"
   ]
  },
  {
   "cell_type": "code",
   "execution_count": null,
   "metadata": {},
   "outputs": [],
   "source": [
    "list_IDs = get_list_IDs(s1_path)\n",
    "data_dirs = [s1_path, s1_align_path]\n",
    "gen = FrameGenerator(list_IDs['train'], data_dirs, batch_size = 1)\n",
    "gen.__getitem__(1)"
   ]
  }
 ],
 "metadata": {
  "kernelspec": {
   "display_name": "Python 3",
   "language": "python",
   "name": "python3"
  },
  "language_info": {
   "codemirror_mode": {
    "name": "ipython",
    "version": 3
   },
   "file_extension": ".py",
   "mimetype": "text/x-python",
   "name": "python",
   "nbconvert_exporter": "python",
   "pygments_lexer": "ipython3",
   "version": "3.5.5"
  }
 },
 "nbformat": 4,
 "nbformat_minor": 2
}
