{
  "nbformat": 4,
  "nbformat_minor": 0,
  "metadata": {
    "colab": {
      "name": "Event Study Quick Demo.ipynb",
      "version": "0.3.2",
      "provenance": [],
      "collapsed_sections": []
    },
    "kernelspec": {
      "name": "python3",
      "display_name": "Python 3"
    }
  },
  "cells": [
    {
      "metadata": {
        "id": "z0ApgotG1yKM",
        "colab_type": "code",
        "colab": {
          "base_uri": "https://localhost:8080/",
          "height": 136
        },
        "outputId": "26b9c583-2800-4445-93c2-31ad35cef716"
      },
      "cell_type": "code",
      "source": [
        "%rm -r MathResearchQHSS\n",
        "! git clone https://github.com/jchen42703/MathResearchQHSS.git"
      ],
      "execution_count": 1,
      "outputs": [
        {
          "output_type": "stream",
          "text": [
            "rm: cannot remove 'MathResearchQHSS': No such file or directory\n",
            "Cloning into 'MathResearchQHSS'...\n",
            "remote: Enumerating objects: 83, done.\u001b[K\n",
            "remote: Counting objects: 100% (83/83), done.\u001b[K\n",
            "remote: Compressing objects: 100% (77/77), done.\u001b[K\n",
            "remote: Total 83 (delta 25), reused 0 (delta 0), pack-reused 0\u001b[K\n",
            "Unpacking objects: 100% (83/83), done.\n"
          ],
          "name": "stdout"
        }
      ]
    },
    {
      "metadata": {
        "id": "jDCGHTal3wHX",
        "colab_type": "code",
        "colab": {
          "base_uri": "https://localhost:8080/",
          "height": 272
        },
        "outputId": "15f7f37b-7834-4730-fd0d-189c2d4d50c1"
      },
      "cell_type": "code",
      "source": [
        "%cd MathResearchQHSS\n",
        "! pip install -r 'requirements.txt'"
      ],
      "execution_count": 2,
      "outputs": [
        {
          "output_type": "stream",
          "text": [
            "/content/MathResearchQHSS\n",
            "Requirement already satisfied: pandas>=0.23.0 in /usr/local/lib/python3.6/dist-packages (from -r requirements.txt (line 1)) (0.23.4)\n",
            "Requirement already satisfied: quandl in /usr/local/lib/python3.6/dist-packages (from -r requirements.txt (line 2)) (3.4.4)\n",
            "Requirement already satisfied: numpy in /usr/local/lib/python3.6/dist-packages (from -r requirements.txt (line 3)) (1.14.6)\n",
            "Requirement already satisfied: scipy in /usr/local/lib/python3.6/dist-packages (from -r requirements.txt (line 4)) (1.1.0)\n",
            "Requirement already satisfied: python-dateutil>=2.5.0 in /usr/local/lib/python3.6/dist-packages (from pandas>=0.23.0->-r requirements.txt (line 1)) (2.5.3)\n",
            "Requirement already satisfied: pytz>=2011k in /usr/local/lib/python3.6/dist-packages (from pandas>=0.23.0->-r requirements.txt (line 1)) (2018.7)\n",
            "Requirement already satisfied: requests>=2.7.0 in /usr/local/lib/python3.6/dist-packages (from quandl->-r requirements.txt (line 2)) (2.18.4)\n",
            "Requirement already satisfied: inflection>=0.3.1 in /usr/local/lib/python3.6/dist-packages (from quandl->-r requirements.txt (line 2)) (0.3.1)\n",
            "Requirement already satisfied: six in /usr/local/lib/python3.6/dist-packages (from quandl->-r requirements.txt (line 2)) (1.11.0)\n",
            "Requirement already satisfied: more-itertools in /usr/local/lib/python3.6/dist-packages (from quandl->-r requirements.txt (line 2)) (4.3.0)\n",
            "Requirement already satisfied: idna<2.7,>=2.5 in /usr/local/lib/python3.6/dist-packages (from requests>=2.7.0->quandl->-r requirements.txt (line 2)) (2.6)\n",
            "Requirement already satisfied: chardet<3.1.0,>=3.0.2 in /usr/local/lib/python3.6/dist-packages (from requests>=2.7.0->quandl->-r requirements.txt (line 2)) (3.0.4)\n",
            "Requirement already satisfied: urllib3<1.23,>=1.21.1 in /usr/local/lib/python3.6/dist-packages (from requests>=2.7.0->quandl->-r requirements.txt (line 2)) (1.22)\n",
            "Requirement already satisfied: certifi>=2017.4.17 in /usr/local/lib/python3.6/dist-packages (from requests>=2.7.0->quandl->-r requirements.txt (line 2)) (2018.10.15)\n"
          ],
          "name": "stdout"
        }
      ]
    },
    {
      "metadata": {
        "id": "XkxKfJb-4RoN",
        "colab_type": "code",
        "outputId": "2d8a92ae-2d0b-451c-a8c5-c974abdf5b17",
        "colab": {
          "base_uri": "https://localhost:8080/",
          "height": 34
        }
      },
      "cell_type": "code",
      "source": [
        "cd '/content'"
      ],
      "execution_count": 3,
      "outputs": [
        {
          "output_type": "stream",
          "text": [
            "/content\n"
          ],
          "name": "stdout"
        }
      ]
    },
    {
      "metadata": {
        "id": "LQMERiLI19Rt",
        "colab_type": "code",
        "outputId": "3422b6da-28ce-445e-d521-edc8fd76fee7",
        "colab": {
          "base_uri": "https://localhost:8080/",
          "height": 221
        }
      },
      "cell_type": "code",
      "source": [
        "import MathResearchQHSS\n",
        "help(MathResearchQHSS)"
      ],
      "execution_count": 4,
      "outputs": [
        {
          "output_type": "stream",
          "text": [
            "Help on package MathResearchQHSS:\n",
            "\n",
            "NAME\n",
            "    MathResearchQHSS\n",
            "\n",
            "PACKAGE CONTENTS\n",
            "    EventStudy (package)\n",
            "\n",
            "FILE\n",
            "    /content/MathResearchQHSS/__init__.py\n",
            "\n",
            "\n"
          ],
          "name": "stdout"
        }
      ]
    },
    {
      "metadata": {
        "id": "1ol-CGeN1_9E",
        "colab_type": "code",
        "colab": {}
      },
      "cell_type": "code",
      "source": [
        "from MathResearchQHSS.EventStudy import event_study "
      ],
      "execution_count": 0,
      "outputs": []
    },
    {
      "metadata": {
        "id": "ex8F0wVf4fC-",
        "colab_type": "code",
        "colab": {}
      },
      "cell_type": "code",
      "source": [
        "date_string = '20170222'\n",
        "window = 15\n",
        "ticker = 'FB'\n",
        "e = event_study.EventLoader_Custom(date_string, window, ticker = ticker)\n",
        "df = e.data_load()\n",
        "\n",
        "# load reference market (just change the ticker)\n",
        "date_string = '20170222'\n",
        "window = 15\n",
        "ticker = 'PM'\n",
        "e_reference = event_study.EventLoader_Custom(date_string, window, ticker = ticker)\n",
        "df_reference = e_reference.data_load()\n",
        "\n",
        "assert df.shape[0] == df_reference.shape[0]"
      ],
      "execution_count": 0,
      "outputs": []
    },
    {
      "metadata": {
        "id": "v9umkHKV40Af",
        "colab_type": "code",
        "outputId": "f4ea415d-6ec1-40cc-d0df-0e617067fb00",
        "colab": {
          "base_uri": "https://localhost:8080/",
          "height": 762
        }
      },
      "cell_type": "code",
      "source": [
        "ev = event_study.EventStudy(df, df_reference)\n",
        "market_returns = ev.market_return()\n",
        "market_returns"
      ],
      "execution_count": 7,
      "outputs": [
        {
          "output_type": "execute_result",
          "data": {
            "text/html": [
              "<div>\n",
              "<style scoped>\n",
              "    .dataframe tbody tr th:only-of-type {\n",
              "        vertical-align: middle;\n",
              "    }\n",
              "\n",
              "    .dataframe tbody tr th {\n",
              "        vertical-align: top;\n",
              "    }\n",
              "\n",
              "    .dataframe thead th {\n",
              "        text-align: right;\n",
              "    }\n",
              "</style>\n",
              "<table border=\"1\" class=\"dataframe\">\n",
              "  <thead>\n",
              "    <tr style=\"text-align: right;\">\n",
              "      <th></th>\n",
              "      <th>Expected Return</th>\n",
              "      <th>Abnormal Return</th>\n",
              "      <th>Cumulative Abnormal Return</th>\n",
              "      <th>T-Test</th>\n",
              "      <th>p-value</th>\n",
              "    </tr>\n",
              "    <tr>\n",
              "      <th>date</th>\n",
              "      <th></th>\n",
              "      <th></th>\n",
              "      <th></th>\n",
              "      <th></th>\n",
              "      <th></th>\n",
              "    </tr>\n",
              "  </thead>\n",
              "  <tbody>\n",
              "    <tr>\n",
              "      <th>2017-02-07</th>\n",
              "      <td>0.000939</td>\n",
              "      <td>-0.000939</td>\n",
              "      <td>-9.388718e-04</td>\n",
              "      <td>-0.017951</td>\n",
              "      <td>0.492839</td>\n",
              "    </tr>\n",
              "    <tr>\n",
              "      <th>2017-02-08</th>\n",
              "      <td>0.000367</td>\n",
              "      <td>0.002874</td>\n",
              "      <td>1.935505e-03</td>\n",
              "      <td>0.054957</td>\n",
              "      <td>0.521914</td>\n",
              "    </tr>\n",
              "    <tr>\n",
              "      <th>2017-02-09</th>\n",
              "      <td>-0.001290</td>\n",
              "      <td>0.001290</td>\n",
              "      <td>3.225900e-03</td>\n",
              "      <td>0.024672</td>\n",
              "      <td>0.509842</td>\n",
              "    </tr>\n",
              "    <tr>\n",
              "      <th>2017-02-10</th>\n",
              "      <td>0.002633</td>\n",
              "      <td>0.007867</td>\n",
              "      <td>1.109324e-02</td>\n",
              "      <td>0.150421</td>\n",
              "      <td>0.559784</td>\n",
              "    </tr>\n",
              "    <tr>\n",
              "      <th>2017-02-13</th>\n",
              "      <td>0.002676</td>\n",
              "      <td>0.001321</td>\n",
              "      <td>1.241454e-02</td>\n",
              "      <td>0.025263</td>\n",
              "      <td>0.510077</td>\n",
              "    </tr>\n",
              "    <tr>\n",
              "      <th>2017-02-14</th>\n",
              "      <td>0.003993</td>\n",
              "      <td>0.003172</td>\n",
              "      <td>1.558686e-02</td>\n",
              "      <td>0.060654</td>\n",
              "      <td>0.524183</td>\n",
              "    </tr>\n",
              "    <tr>\n",
              "      <th>2017-02-15</th>\n",
              "      <td>0.000457</td>\n",
              "      <td>-0.002038</td>\n",
              "      <td>1.354837e-02</td>\n",
              "      <td>-0.038975</td>\n",
              "      <td>0.484455</td>\n",
              "    </tr>\n",
              "    <tr>\n",
              "      <th>2017-02-16</th>\n",
              "      <td>-0.002587</td>\n",
              "      <td>-0.004539</td>\n",
              "      <td>9.009323e-03</td>\n",
              "      <td>-0.086785</td>\n",
              "      <td>0.465421</td>\n",
              "    </tr>\n",
              "    <tr>\n",
              "      <th>2017-02-17</th>\n",
              "      <td>0.005538</td>\n",
              "      <td>-0.002348</td>\n",
              "      <td>6.661443e-03</td>\n",
              "      <td>-0.044891</td>\n",
              "      <td>0.482097</td>\n",
              "    </tr>\n",
              "    <tr>\n",
              "      <th>2017-02-21</th>\n",
              "      <td>-0.002074</td>\n",
              "      <td>0.010818</td>\n",
              "      <td>1.747928e-02</td>\n",
              "      <td>0.206834</td>\n",
              "      <td>0.581930</td>\n",
              "    </tr>\n",
              "    <tr>\n",
              "      <th>2017-02-22</th>\n",
              "      <td>-0.000406</td>\n",
              "      <td>-0.001170</td>\n",
              "      <td>1.630885e-02</td>\n",
              "      <td>-0.022378</td>\n",
              "      <td>0.491073</td>\n",
              "    </tr>\n",
              "    <tr>\n",
              "      <th>2017-02-23</th>\n",
              "      <td>0.003596</td>\n",
              "      <td>-0.012277</td>\n",
              "      <td>4.031427e-03</td>\n",
              "      <td>-0.234741</td>\n",
              "      <td>0.407205</td>\n",
              "    </tr>\n",
              "    <tr>\n",
              "      <th>2017-02-24</th>\n",
              "      <td>0.000729</td>\n",
              "      <td>-0.007895</td>\n",
              "      <td>-3.863630e-03</td>\n",
              "      <td>-0.150951</td>\n",
              "      <td>0.440007</td>\n",
              "    </tr>\n",
              "    <tr>\n",
              "      <th>2017-02-27</th>\n",
              "      <td>0.000099</td>\n",
              "      <td>0.015137</td>\n",
              "      <td>1.127363e-02</td>\n",
              "      <td>0.289420</td>\n",
              "      <td>0.613870</td>\n",
              "    </tr>\n",
              "    <tr>\n",
              "      <th>2017-02-28</th>\n",
              "      <td>-0.004639</td>\n",
              "      <td>-0.005630</td>\n",
              "      <td>5.643706e-03</td>\n",
              "      <td>-0.107643</td>\n",
              "      <td>0.457140</td>\n",
              "    </tr>\n",
              "    <tr>\n",
              "      <th>2017-03-01</th>\n",
              "      <td>0.002141</td>\n",
              "      <td>0.010629</td>\n",
              "      <td>1.627248e-02</td>\n",
              "      <td>0.203219</td>\n",
              "      <td>0.580518</td>\n",
              "    </tr>\n",
              "    <tr>\n",
              "      <th>2017-03-02</th>\n",
              "      <td>0.000123</td>\n",
              "      <td>-0.002487</td>\n",
              "      <td>1.378518e-02</td>\n",
              "      <td>-0.047557</td>\n",
              "      <td>0.481035</td>\n",
              "    </tr>\n",
              "    <tr>\n",
              "      <th>2017-03-03</th>\n",
              "      <td>0.003333</td>\n",
              "      <td>-0.004123</td>\n",
              "      <td>9.662670e-03</td>\n",
              "      <td>-0.078821</td>\n",
              "      <td>0.468587</td>\n",
              "    </tr>\n",
              "    <tr>\n",
              "      <th>2017-03-06</th>\n",
              "      <td>-0.001103</td>\n",
              "      <td>-0.009174</td>\n",
              "      <td>4.890764e-04</td>\n",
              "      <td>-0.175397</td>\n",
              "      <td>0.430384</td>\n",
              "    </tr>\n",
              "    <tr>\n",
              "      <th>2017-03-07</th>\n",
              "      <td>-0.005101</td>\n",
              "      <td>0.000309</td>\n",
              "      <td>7.976018e-04</td>\n",
              "      <td>0.005899</td>\n",
              "      <td>0.502353</td>\n",
              "    </tr>\n",
              "    <tr>\n",
              "      <th>2017-03-08</th>\n",
              "      <td>0.001497</td>\n",
              "      <td>0.004121</td>\n",
              "      <td>4.918497e-03</td>\n",
              "      <td>0.078790</td>\n",
              "      <td>0.531400</td>\n",
              "    </tr>\n",
              "    <tr>\n",
              "      <th>2017-03-09</th>\n",
              "      <td>0.002524</td>\n",
              "      <td>-0.004918</td>\n",
              "      <td>8.673617e-19</td>\n",
              "      <td>-0.094040</td>\n",
              "      <td>0.462539</td>\n",
              "    </tr>\n",
              "  </tbody>\n",
              "</table>\n",
              "</div>"
            ],
            "text/plain": [
              "            Expected Return  Abnormal Return    ...       T-Test   p-value\n",
              "date                                            ...                       \n",
              "2017-02-07         0.000939        -0.000939    ...    -0.017951  0.492839\n",
              "2017-02-08         0.000367         0.002874    ...     0.054957  0.521914\n",
              "2017-02-09        -0.001290         0.001290    ...     0.024672  0.509842\n",
              "2017-02-10         0.002633         0.007867    ...     0.150421  0.559784\n",
              "2017-02-13         0.002676         0.001321    ...     0.025263  0.510077\n",
              "2017-02-14         0.003993         0.003172    ...     0.060654  0.524183\n",
              "2017-02-15         0.000457        -0.002038    ...    -0.038975  0.484455\n",
              "2017-02-16        -0.002587        -0.004539    ...    -0.086785  0.465421\n",
              "2017-02-17         0.005538        -0.002348    ...    -0.044891  0.482097\n",
              "2017-02-21        -0.002074         0.010818    ...     0.206834  0.581930\n",
              "2017-02-22        -0.000406        -0.001170    ...    -0.022378  0.491073\n",
              "2017-02-23         0.003596        -0.012277    ...    -0.234741  0.407205\n",
              "2017-02-24         0.000729        -0.007895    ...    -0.150951  0.440007\n",
              "2017-02-27         0.000099         0.015137    ...     0.289420  0.613870\n",
              "2017-02-28        -0.004639        -0.005630    ...    -0.107643  0.457140\n",
              "2017-03-01         0.002141         0.010629    ...     0.203219  0.580518\n",
              "2017-03-02         0.000123        -0.002487    ...    -0.047557  0.481035\n",
              "2017-03-03         0.003333        -0.004123    ...    -0.078821  0.468587\n",
              "2017-03-06        -0.001103        -0.009174    ...    -0.175397  0.430384\n",
              "2017-03-07        -0.005101         0.000309    ...     0.005899  0.502353\n",
              "2017-03-08         0.001497         0.004121    ...     0.078790  0.531400\n",
              "2017-03-09         0.002524        -0.004918    ...    -0.094040  0.462539\n",
              "\n",
              "[22 rows x 5 columns]"
            ]
          },
          "metadata": {
            "tags": []
          },
          "execution_count": 7
        }
      ]
    }
  ]
}